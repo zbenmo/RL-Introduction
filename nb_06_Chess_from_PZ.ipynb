{
 "cells": [
  {
   "cell_type": "code",
   "execution_count": 2,
   "id": "1603d939-bf19-44fb-8f9e-f82cc4d72bcd",
   "metadata": {},
   "outputs": [],
   "source": [
    "from pettingzoo.classic import chess_v6\n",
    "import matplotlib.pyplot as plt"
   ]
  },
  {
   "cell_type": "code",
   "execution_count": 14,
   "id": "098cf4a1-b6e6-4592-9435-3917ebc1c02f",
   "metadata": {},
   "outputs": [],
   "source": [
    "env = chess_v6.env(render_mode=\"human\")\n",
    "env.reset(seed=42)"
   ]
  },
  {
   "cell_type": "code",
   "execution_count": 15,
   "id": "5e76f5c4-8462-4917-91ee-f74cdec4d75f",
   "metadata": {},
   "outputs": [],
   "source": [
    "agents_iter = iter(env.agent_iter())"
   ]
  },
  {
   "cell_type": "code",
   "execution_count": 16,
   "id": "d9a9e8b7-4bd8-4d46-88f4-542c270c2695",
   "metadata": {},
   "outputs": [],
   "source": [
    "agent = next(agents_iter)"
   ]
  },
  {
   "cell_type": "code",
   "execution_count": 17,
   "id": "8e0281a5-8c8d-467a-b3f5-5649a6ec2197",
   "metadata": {},
   "outputs": [
    {
     "data": {
      "text/plain": [
       "'player_0'"
      ]
     },
     "execution_count": 17,
     "metadata": {},
     "output_type": "execute_result"
    }
   ],
   "source": [
    "agent"
   ]
  },
  {
   "cell_type": "code",
   "execution_count": 18,
   "id": "f930d947-39d4-4c86-bc83-51870abfab0d",
   "metadata": {},
   "outputs": [],
   "source": [
    "observation, reward, termination, truncation, info = env.last()"
   ]
  },
  {
   "cell_type": "code",
   "execution_count": 19,
   "id": "30e975e9-2fc0-4217-b894-f073fa21b709",
   "metadata": {},
   "outputs": [
    {
     "data": {
      "text/plain": [
       "dict_keys(['observation', 'action_mask'])"
      ]
     },
     "execution_count": 19,
     "metadata": {},
     "output_type": "execute_result"
    }
   ],
   "source": [
    "observation.keys()"
   ]
  },
  {
   "cell_type": "code",
   "execution_count": 20,
   "id": "ced02b61-c1ca-48b8-879c-734c67aa8646",
   "metadata": {},
   "outputs": [
    {
     "data": {
      "text/plain": [
       "(8, 8, 111)"
      ]
     },
     "execution_count": 20,
     "metadata": {},
     "output_type": "execute_result"
    }
   ],
   "source": [
    "observation['observation'].shape"
   ]
  },
  {
   "cell_type": "code",
   "execution_count": 22,
   "id": "20390106-b859-458f-8a78-2510b38bd145",
   "metadata": {},
   "outputs": [
    {
     "data": {
      "image/png": "[encoded data removed]",
      "text/plain": [
       "<Figure size 640x480 with 2 Axes>"
      ]
     },
     "metadata": {},
     "output_type": "display_data"
    }
   ],
   "source": [
    "plt.imshow(observation['observation'][:,:,4], vmin=0, vmax=1)\n",
    "plt.gca().invert_yaxis()\n",
    "plt.colorbar()\n",
    "plt.show()"
   ]
  },
  {
   "cell_type": "code",
   "execution_count": 23,
   "id": "b3ccc125-ae99-4813-b9c1-f027c9806842",
   "metadata": {},
   "outputs": [],
   "source": [
    "mask = observation[\"action_mask\"]\n",
    "action = env.action_space(agent).sample(mask)\n",
    "env.step(action)"
   ]
  },
  {
   "cell_type": "code",
   "execution_count": 24,
   "id": "d3d0e2a7-eab1-45a8-94fa-63537781d03f",
   "metadata": {},
   "outputs": [
    {
     "data": {
      "text/plain": [
       "'player_1'"
      ]
     },
     "execution_count": 24,
     "metadata": {},
     "output_type": "execute_result"
    }
   ],
   "source": [
    "agent = next(agents_iter)\n",
    "agent"
   ]
  },
  {
   "cell_type": "code",
   "execution_count": 25,
   "id": "d475d090-8d0b-4894-b601-f749dcea291d",
   "metadata": {},
   "outputs": [],
   "source": [
    "observation, reward, termination, truncation, info = env.last()"
   ]
  },
  {
   "cell_type": "code",
   "execution_count": 26,
   "id": "2943daea-8407-4696-b473-52fdd3c7730e",
   "metadata": {},
   "outputs": [
    {
     "data": {
      "image/png": "[encoded data removed]",
      "text/plain": [
       "<Figure size 640x480 with 2 Axes>"
      ]
     },
     "metadata": {},
     "output_type": "display_data"
    }
   ],
   "source": [
    "plt.imshow(observation['observation'][:,:,4], vmin=0, vmax=1)\n",
    "plt.gca().invert_yaxis()\n",
    "plt.colorbar()\n",
    "plt.show()"
   ]
  },
  {
   "cell_type": "code",
   "execution_count": 62,
   "id": "f9182c43-b4a7-4991-8fb9-a85ad22fc394",
   "metadata": {},
   "outputs": [],
   "source": [
    "env.close()"
   ]
  },
  {
   "cell_type": "code",
   "execution_count": 57,
   "id": "6c8979c1-7c4c-4f20-928d-0df517bba50c",
   "metadata": {},
   "outputs": [
    {
     "data": {
      "text/plain": [
       "(4672,)"
      ]
     },
     "execution_count": 57,
     "metadata": {},
     "output_type": "execute_result"
    }
   ],
   "source": [
    "mask.shape"
   ]
  },
  {
   "cell_type": "code",
   "execution_count": 61,
   "id": "1cfa0242-f3ac-47ca-9615-ca6fd35719d3",
   "metadata": {},
   "outputs": [
    {
     "data": {
      "text/plain": [
       "(8, 8, 73)"
      ]
     },
     "execution_count": 61,
     "metadata": {},
     "output_type": "execute_result"
    }
   ],
   "source": [
    "mask.reshape(8, 8, -1).shape"
   ]
  },
  {
   "cell_type": "markdown",
   "id": "5bed720f-c7bb-4a27-801c-83cf2da5f166",
   "metadata": {},
   "source": [
    "## Shameless Plugin: *qwertyenv*"
   ]
  },
  {
   "cell_type": "code",
   "execution_count": 1,
   "id": "7cf6ac69-a5f6-452b-bbff-3361fabc8654",
   "metadata": {},
   "outputs": [],
   "source": [
    "# https://github.com/zbenmo/qwertyenv/blob/main/tests/test_gymnasium_conversions.py"
   ]
  },
  {
   "cell_type": "code",
   "execution_count": 2,
   "id": "a5faceb6-980f-4554-be96-0e32c064d668",
   "metadata": {},
   "outputs": [],
   "source": [
    "# https://pypi.org/project/qwertyenv/"
   ]
  }
 ],
 "metadata": {
  "kernelspec": {
   "display_name": "Python 3 (ipykernel)",
   "language": "python",
   "name": "python3"
  },
  "language_info": {
   "codemirror_mode": {
    "name": "ipython",
    "version": 3
   },
   "file_extension": ".py",
   "mimetype": "text/x-python",
   "name": "python",
   "nbconvert_exporter": "python",
   "pygments_lexer": "ipython3",
   "version": "3.10.17"
  }
 },
 "nbformat": 4,
 "nbformat_minor": 5
}
