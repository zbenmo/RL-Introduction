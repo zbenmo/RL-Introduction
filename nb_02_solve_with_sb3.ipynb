{
 "cells": [
  {
   "cell_type": "code",
   "execution_count": 1,
   "id": "5da43e58-1918-4492-b871-ac3386d85c8c",
   "metadata": {},
   "outputs": [],
   "source": [
    "import gymnasium as gym\n",
    "import stable_baselines3 as sb3\n",
    "\n",
    "import random\n",
    "import numpy as np\n",
    "import torch\n",
    "\n",
    "from typing import List"
   ]
  },
  {
   "cell_type": "code",
   "execution_count": 2,
   "id": "449c61b4-03ce-4790-9f9e-9f760dd21c1a",
   "metadata": {},
   "outputs": [
    {
     "data": {
      "text/plain": [
       "<torch._C.Generator at 0x7f8e4424a5f0>"
      ]
     },
     "execution_count": 2,
     "metadata": {},
     "output_type": "execute_result"
    }
   ],
   "source": [
    "random.seed(1)\n",
    "np.random.seed(1)\n",
    "torch.manual_seed(1)"
   ]
  },
  {
   "cell_type": "code",
   "execution_count": 14,
   "id": "0f57cfba-8b2d-49da-955b-d49370938a92",
   "metadata": {},
   "outputs": [],
   "source": [
    "# Initialise the environment\n",
    "env = gym.make(\"LunarLander-v3\", render_mode=\"human\")"
   ]
  },
  {
   "cell_type": "code",
   "execution_count": 4,
   "id": "cd0944dc-2d09-409b-be38-2918b720e768",
   "metadata": {},
   "outputs": [],
   "source": [
    "agent = sb3.DQN(\"MlpPolicy\", env=env)"
   ]
  },
  {
   "cell_type": "code",
   "execution_count": 5,
   "id": "2ea1d375-d817-45a4-82d5-753cea5e9d87",
   "metadata": {},
   "outputs": [],
   "source": [
    "def play(time_steps: int = 500) -> List[float]:\n",
    "    rewards = []\n",
    "    # Reset the environment to generate the first observation\n",
    "    observation, info = env.reset(seed=42)\n",
    "    for _ in range(time_steps):\n",
    "        # this is where you would insert your policy\n",
    "        # action = env.action_space.sample()\n",
    "        action, _state = agent.predict(observation)\n",
    "    \n",
    "        # step (transition) through the environment with the action\n",
    "        # receiving the next observation, reward and if the episode has terminated or truncated\n",
    "        observation, reward, terminated, truncated, info = env.step(action)\n",
    "        rewards.append(reward)\n",
    "        \n",
    "        # If the episode has ended then we can reset to start a new episode\n",
    "        if terminated or truncated:\n",
    "            observation, info = env.reset()\n",
    "    return rewards"
   ]
  },
  {
   "cell_type": "code",
   "execution_count": 6,
   "id": "d06de9b3-bbc8-4303-8363-8e1d644b8d7b",
   "metadata": {},
   "outputs": [],
   "source": [
    "rewards = play()"
   ]
  },
  {
   "cell_type": "code",
   "execution_count": 7,
   "id": "97f03e23-8f3a-4b80-843b-2795231d0026",
   "metadata": {},
   "outputs": [
    {
     "data": {
      "text/plain": [
       "np.float64(-8.09772089717214)"
      ]
     },
     "execution_count": 7,
     "metadata": {},
     "output_type": "execute_result"
    }
   ],
   "source": [
    "np.mean(rewards)"
   ]
  },
  {
   "cell_type": "code",
   "execution_count": 8,
   "id": "801cf350-331a-4340-9bf8-6d04f0a1cd8d",
   "metadata": {},
   "outputs": [],
   "source": [
    "# env.close()"
   ]
  },
  {
   "cell_type": "code",
   "execution_count": 9,
   "id": "65250718-513c-4f5b-bb33-41d6f7796257",
   "metadata": {},
   "outputs": [
    {
     "data": {
      "application/vnd.jupyter.widget-view+json": {
       "model_id": "0c3d8c58d4e344a79a3fc303c6c60c4f",
       "version_major": 2,
       "version_minor": 0
      },
      "text/plain": [
       "Output()"
      ]
     },
     "metadata": {},
     "output_type": "display_data"
    },
    {
     "data": {
      "text/html": [
       "<pre style=\"white-space:pre;overflow-x:auto;line-height:normal;font-family:Menlo,'DejaVu Sans Mono',consolas,'Courier New',monospace\"></pre>\n"
      ],
      "text/plain": []
     },
     "metadata": {},
     "output_type": "display_data"
    },
    {
     "data": {
      "text/plain": [
       "<stable_baselines3.dqn.dqn.DQN at 0x7f8e3aff02e0>"
      ]
     },
     "execution_count": 9,
     "metadata": {},
     "output_type": "execute_result"
    }
   ],
   "source": [
    "agent.learn(total_timesteps=2_000, progress_bar=True)"
   ]
  },
  {
   "cell_type": "code",
   "execution_count": 10,
   "id": "93f79d30-fbc0-42e3-88fb-d91ef0a6c4e4",
   "metadata": {},
   "outputs": [],
   "source": [
    "rewards = play()"
   ]
  },
  {
   "cell_type": "code",
   "execution_count": 11,
   "id": "9233300d-481c-4e6e-9607-25fc8d7456a0",
   "metadata": {},
   "outputs": [
    {
     "data": {
      "text/plain": [
       "np.float64(-1.3115392043262)"
      ]
     },
     "execution_count": 11,
     "metadata": {},
     "output_type": "execute_result"
    }
   ],
   "source": [
    "np.mean(rewards)"
   ]
  },
  {
   "cell_type": "code",
   "execution_count": 12,
   "id": "365ed174-8365-4805-8614-af5369bd9dd3",
   "metadata": {},
   "outputs": [],
   "source": [
    "env.close()"
   ]
  },
  {
   "cell_type": "code",
   "execution_count": null,
   "id": "0163ac31-b76b-403a-b04f-9620ad654c94",
   "metadata": {},
   "outputs": [],
   "source": []
  }
 ],
 "metadata": {
  "kernelspec": {
   "display_name": "Python 3 (ipykernel)",
   "language": "python",
   "name": "python3"
  },
  "language_info": {
   "codemirror_mode": {
    "name": "ipython",
    "version": 3
   },
   "file_extension": ".py",
   "mimetype": "text/x-python",
   "name": "python",
   "nbconvert_exporter": "python",
   "pygments_lexer": "ipython3",
   "version": "3.10.15"
  }
 },
 "nbformat": 4,
 "nbformat_minor": 5
}
