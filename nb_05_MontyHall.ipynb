{
 "cells": [
  {
   "cell_type": "code",
   "execution_count": 1,
   "id": "9eb4143f-8169-42da-80d5-c5b48febb5c0",
   "metadata": {},
   "outputs": [],
   "source": [
    "# https://en.wikipedia.org/wiki/Monty_Hall_problem"
   ]
  },
  {
   "cell_type": "code",
   "execution_count": 2,
   "id": "f8f4ad8a-8746-4785-8ff0-3131c41a428d",
   "metadata": {},
   "outputs": [],
   "source": [
    "import gymnasium as gym\n",
    "from gymnasium.utils.env_checker import check_env\n",
    "import random\n",
    "from typing import Tuple, Dict, List\n",
    "import numpy as np\n",
    "import matplotlib.pyplot as plt"
   ]
  },
  {
   "cell_type": "code",
   "execution_count": 3,
   "id": "bfc8cd12-c869-47c4-b4ed-88af5a9a83ee",
   "metadata": {},
   "outputs": [],
   "source": [
    "class MontyHallEnv(gym.Env):\n",
    "    def __init__(self):\n",
    "        self.observation_space = gym.spaces.MultiBinary(3) # the doors (False - closed, True - opened)\n",
    "        self.action_space = gym.spaces.Discrete(3) # door to open - 0-based\n",
    "        self._doors = None\n",
    "        self._secret = None\n",
    "    \n",
    "    def reset(self, seed=None, **kwargs):\n",
    "        super().reset(seed=seed, **kwargs) # this should take care also of seeding the random\n",
    "        if seed:\n",
    "            random.seed(seed)\n",
    "        self._doors = np.zeros(3, dtype=bool)\n",
    "        self._secret = random.choice(range(3))\n",
    "        return self._get_state()\n",
    "\n",
    "    def _get_state(self) -> Tuple['np.array', Dict]:\n",
    "        info = {}\n",
    "        return self._doors, info\n",
    "    \n",
    "    def step(self, door: int):\n",
    "        assert 0 <= door < 3, f'{door}'\n",
    "        done = False\n",
    "        reward = 0.0\n",
    "        if sum(self._doors) == 0:\n",
    "            reveal_candidates = set(range(3)).difference([door, self._secret])\n",
    "            reveal = random.choice(list(reveal_candidates))\n",
    "            self._doors[reveal] = True\n",
    "        else:\n",
    "            assert sum(self._doors) == 1, f'{self._doors}'\n",
    "            self._doors[door] = True\n",
    "            reward = +1.0 if self._secret == door else 0.0\n",
    "            done = True\n",
    "        obs, info = self._get_state()\n",
    "        truncated = False\n",
    "        return obs, reward, done, truncated, info\n",
    "\n",
    "    def render(self) -> None:\n",
    "        print(f'Doors:  {\" \".join(np.where(self._doors, \"opened\", \"closed \"))}')\n",
    "        show_secret = np.zeros(3, dtype=bool)\n",
    "        show_secret[self._secret] = True\n",
    "        print(f'Secret: {\" \".join(np.where(show_secret, \"   *   \", \"   -   \"))}')"
   ]
  },
  {
   "cell_type": "code",
   "execution_count": 4,
   "id": "a9509920-1cd2-4d6d-848d-61e76aa2091e",
   "metadata": {},
   "outputs": [],
   "source": [
    "env = MontyHallEnv()"
   ]
  },
  {
   "cell_type": "code",
   "execution_count": 5,
   "id": "d348ee4a-a6f9-416f-82fe-1f1efab5b7cf",
   "metadata": {},
   "outputs": [
    {
     "name": "stderr",
     "output_type": "stream",
     "text": [
      "/home/oren/projects/RL-Introduction/venv/lib/python3.10/site-packages/gymnasium/utils/env_checker.py:434: UserWarning: \u001b[33mWARN: Not able to test alternative render modes due to the environment not having a spec. Try instantiating the environment through `gymnasium.make`\u001b[0m\n",
      "  logger.warn(\n"
     ]
    }
   ],
   "source": [
    "check_env(env)"
   ]
  },
  {
   "cell_type": "code",
   "execution_count": 6,
   "id": "9cea2852-6902-4d92-825a-248fa884af7b",
   "metadata": {},
   "outputs": [
    {
     "data": {
      "text/plain": [
       "(array([False, False, False]), {})"
      ]
     },
     "execution_count": 6,
     "metadata": {},
     "output_type": "execute_result"
    }
   ],
   "source": [
    "env.reset()"
   ]
  },
  {
   "cell_type": "code",
   "execution_count": 7,
   "id": "d62e7673-550e-4ad8-b41b-750e5e982be0",
   "metadata": {},
   "outputs": [
    {
     "name": "stdout",
     "output_type": "stream",
     "text": [
      "Doors:  closed  closed  closed \n",
      "Secret:    *       -       -   \n"
     ]
    }
   ],
   "source": [
    "env.render()"
   ]
  },
  {
   "cell_type": "code",
   "execution_count": 8,
   "id": "f6d53915-3c82-464f-bb36-f8488a6e021d",
   "metadata": {},
   "outputs": [
    {
     "data": {
      "text/plain": [
       "(array([False, False,  True]), 0.0, False, False, {})"
      ]
     },
     "execution_count": 8,
     "metadata": {},
     "output_type": "execute_result"
    }
   ],
   "source": [
    "env.step(0)"
   ]
  },
  {
   "cell_type": "code",
   "execution_count": 9,
   "id": "45e8a9be-21ce-400d-a047-052a8addbd8c",
   "metadata": {},
   "outputs": [
    {
     "name": "stdout",
     "output_type": "stream",
     "text": [
      "Doors:  closed  closed  opened\n",
      "Secret:    *       -       -   \n"
     ]
    }
   ],
   "source": [
    "env.render()"
   ]
  },
  {
   "cell_type": "code",
   "execution_count": 10,
   "id": "c58a63b8-1019-4901-b5c4-f40a76661277",
   "metadata": {},
   "outputs": [
    {
     "data": {
      "text/plain": [
       "(array([False,  True,  True]), 0.0, True, False, {})"
      ]
     },
     "execution_count": 10,
     "metadata": {},
     "output_type": "execute_result"
    }
   ],
   "source": [
    "env.step(1)"
   ]
  },
  {
   "cell_type": "code",
   "execution_count": 11,
   "id": "37ddcef5-9b32-4df8-b8bf-2e25abe247b0",
   "metadata": {},
   "outputs": [
    {
     "name": "stdout",
     "output_type": "stream",
     "text": [
      "Doors:  closed  opened opened\n",
      "Secret:    *       -       -   \n"
     ]
    }
   ],
   "source": [
    "env.render()"
   ]
  },
  {
   "cell_type": "code",
   "execution_count": 12,
   "id": "616fc6aa-3b54-436b-b773-36f655c005e7",
   "metadata": {},
   "outputs": [],
   "source": [
    "def stick(trials: int) -> List[float]:\n",
    "    ret = []\n",
    "    for _ in range(trials):\n",
    "        _ = env.reset()\n",
    "        pick = random.choice(range(3))\n",
    "        obs, *_ = env.step(pick)\n",
    "        obs, reward, *_ = env.step(pick)\n",
    "        ret.append(reward)\n",
    "    return ret"
   ]
  },
  {
   "cell_type": "code",
   "execution_count": 13,
   "id": "2722cfc2-a614-49b4-bbbd-33e08d8ea5e8",
   "metadata": {},
   "outputs": [],
   "source": [
    "rewards_when_stick = stick(1000)"
   ]
  },
  {
   "cell_type": "code",
   "execution_count": 14,
   "id": "6610dcec-d2b5-439f-a6e3-0ac6e3daefbe",
   "metadata": {},
   "outputs": [],
   "source": [
    "def switch_(trials: int) -> List[float]:\n",
    "    ret = []\n",
    "    for _ in range(trials):\n",
    "        _ = env.reset()\n",
    "        pick = random.choice(range(3))\n",
    "        obs, *_ = env.step(pick)\n",
    "        assert sum(obs) == 1, f'{sum(obs)}'\n",
    "        revealed = next(i for i in range(3) if obs[i])\n",
    "        new_selection = set(range(3)).difference([pick, revealed])\n",
    "        assert len(new_selection) == 1, f'{len(new_selection)}'\n",
    "        obs, reward, *_ = env.step(list(new_selection)[0])\n",
    "        ret.append(reward)\n",
    "    return ret"
   ]
  },
  {
   "cell_type": "code",
   "execution_count": 15,
   "id": "4cbc1426-eb7d-4837-a79a-3b2a7c4b6efa",
   "metadata": {},
   "outputs": [],
   "source": [
    "rewards_when_switch = switch_(1000)"
   ]
  },
  {
   "cell_type": "code",
   "execution_count": 16,
   "id": "2df3f6a0-3ac7-4784-9018-e8c862ef633c",
   "metadata": {},
   "outputs": [
    {
     "data": {
      "text/plain": [
       "np.float64(0.302)"
      ]
     },
     "execution_count": 16,
     "metadata": {},
     "output_type": "execute_result"
    }
   ],
   "source": [
    "np.mean(rewards_when_stick)"
   ]
  },
  {
   "cell_type": "code",
   "execution_count": 17,
   "id": "5cf58865-5888-4f65-89ed-857c419cccf7",
   "metadata": {},
   "outputs": [
    {
     "data": {
      "text/plain": [
       "np.float64(0.661)"
      ]
     },
     "execution_count": 17,
     "metadata": {},
     "output_type": "execute_result"
    }
   ],
   "source": [
    "np.mean(rewards_when_switch)"
   ]
  },
  {
   "cell_type": "code",
   "execution_count": 18,
   "id": "8f5b6bed-8d50-4977-8af0-8df76025697d",
   "metadata": {},
   "outputs": [
    {
     "data": {
      "image/png": "[encoded data removed]",
      "text/plain": [
       "<Figure size 640x480 with 1 Axes>"
      ]
     },
     "metadata": {},
     "output_type": "display_data"
    }
   ],
   "source": [
    "plt.ecdf(rewards_when_stick, label='rewards_when_stick')\n",
    "plt.ecdf(rewards_when_switch, label='rewards_when_switch')\n",
    "plt.xlabel('reward')\n",
    "plt.ylabel('percentage of the samples')\n",
    "plt.legend()\n",
    "plt.show()"
   ]
  },
  {
   "cell_type": "code",
   "execution_count": null,
   "id": "801fe942-5ef7-49c7-9db3-811ef577b87e",
   "metadata": {},
   "outputs": [],
   "source": []
  }
 ],
 "metadata": {
  "kernelspec": {
   "display_name": "Python 3 (ipykernel)",
   "language": "python",
   "name": "python3"
  },
  "language_info": {
   "codemirror_mode": {
    "name": "ipython",
    "version": 3
   },
   "file_extension": ".py",
   "mimetype": "text/x-python",
   "name": "python",
   "nbconvert_exporter": "python",
   "pygments_lexer": "ipython3",
   "version": "3.10.17"
  }
 },
 "nbformat": 4,
 "nbformat_minor": 5
}
