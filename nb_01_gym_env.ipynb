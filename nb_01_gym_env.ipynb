{
 "cells": [
  {
   "cell_type": "code",
   "execution_count": 1,
   "id": "3d75e14b-97a4-4f5a-b312-3555eb93f623",
   "metadata": {},
   "outputs": [],
   "source": [
    "import gymnasium as gym"
   ]
  },
  {
   "cell_type": "code",
   "execution_count": 2,
   "id": "87329528-e6f3-4294-9933-095ccf6a265f",
   "metadata": {},
   "outputs": [],
   "source": [
    "# Initialise the environment\n",
    "env = gym.make(\"LunarLander-v3\", render_mode=\"human\")\n",
    "\n",
    "# Reset the environment to generate the first observation\n",
    "observation, info = env.reset(seed=42)\n",
    "for _ in range(1000):\n",
    "    # this is where you would insert your policy\n",
    "    action = env.action_space.sample()\n",
    "\n",
    "    # step (transition) through the environment with the action\n",
    "    # receiving the next observation, reward and if the episode has terminated or truncated\n",
    "    observation, reward, terminated, truncated, info = env.step(action)\n",
    "\n",
    "    # If the episode has ended then we can reset to start a new episode\n",
    "    if terminated or truncated:\n",
    "        observation, info = env.reset()\n",
    "\n",
    "env.close()"
   ]
  },
  {
   "cell_type": "code",
   "execution_count": 3,
   "id": "157877fe-8a7c-4b72-866b-63c18423cdb4",
   "metadata": {},
   "outputs": [
    {
     "data": {
      "text/plain": [
       "Discrete(4)"
      ]
     },
     "execution_count": 3,
     "metadata": {},
     "output_type": "execute_result"
    }
   ],
   "source": [
    "env.action_space"
   ]
  },
  {
   "cell_type": "code",
   "execution_count": 4,
   "id": "f5ec9c75-d993-46c7-a35d-4c7d78c6e423",
   "metadata": {},
   "outputs": [
    {
     "data": {
      "text/plain": [
       "Box([ -2.5        -2.5       -10.        -10.         -6.2831855 -10.\n",
       "  -0.         -0.       ], [ 2.5        2.5       10.        10.         6.2831855 10.\n",
       "  1.         1.       ], (8,), float32)"
      ]
     },
     "execution_count": 4,
     "metadata": {},
     "output_type": "execute_result"
    }
   ],
   "source": [
    "env.observation_space"
   ]
  },
  {
   "cell_type": "code",
   "execution_count": 5,
   "id": "b400ef10-f85c-4051-9adc-e80e6a6c3bee",
   "metadata": {},
   "outputs": [
    {
     "data": {
      "text/plain": [
       "\u001b[0;31mInit signature:\u001b[0m\n",
       "\u001b[0mgym\u001b[0m\u001b[0;34m.\u001b[0m\u001b[0mspaces\u001b[0m\u001b[0;34m.\u001b[0m\u001b[0mBox\u001b[0m\u001b[0;34m(\u001b[0m\u001b[0;34m\u001b[0m\n",
       "\u001b[0;34m\u001b[0m    \u001b[0mlow\u001b[0m\u001b[0;34m:\u001b[0m \u001b[0;34m'SupportsFloat | NDArray[Any]'\u001b[0m\u001b[0;34m,\u001b[0m\u001b[0;34m\u001b[0m\n",
       "\u001b[0;34m\u001b[0m    \u001b[0mhigh\u001b[0m\u001b[0;34m:\u001b[0m \u001b[0;34m'SupportsFloat | NDArray[Any]'\u001b[0m\u001b[0;34m,\u001b[0m\u001b[0;34m\u001b[0m\n",
       "\u001b[0;34m\u001b[0m    \u001b[0mshape\u001b[0m\u001b[0;34m:\u001b[0m \u001b[0;34m'Sequence[int] | None'\u001b[0m \u001b[0;34m=\u001b[0m \u001b[0;32mNone\u001b[0m\u001b[0;34m,\u001b[0m\u001b[0;34m\u001b[0m\n",
       "\u001b[0;34m\u001b[0m    \u001b[0mdtype\u001b[0m\u001b[0;34m:\u001b[0m \u001b[0;34m'type[np.floating[Any]] | type[np.integer[Any]]'\u001b[0m \u001b[0;34m=\u001b[0m \u001b[0;34m<\u001b[0m\u001b[0;32mclass\u001b[0m \u001b[0;34m'numpy.float32'\u001b[0m\u001b[0;34m>\u001b[0m\u001b[0;34m,\u001b[0m\u001b[0;34m\u001b[0m\n",
       "\u001b[0;34m\u001b[0m    \u001b[0mseed\u001b[0m\u001b[0;34m:\u001b[0m \u001b[0;34m'int | np.random.Generator | None'\u001b[0m \u001b[0;34m=\u001b[0m \u001b[0;32mNone\u001b[0m\u001b[0;34m,\u001b[0m\u001b[0;34m\u001b[0m\n",
       "\u001b[0;34m\u001b[0m\u001b[0;34m)\u001b[0m\u001b[0;34m\u001b[0m\u001b[0;34m\u001b[0m\u001b[0m\n",
       "\u001b[0;31mDocstring:\u001b[0m     \n",
       "A (possibly unbounded) box in :math:`\\mathbb{R}^n`.\n",
       "\n",
       "Specifically, a Box represents the Cartesian product of n closed intervals.\n",
       "Each interval has the form of one of :math:`[a, b]`, :math:`(-\\infty, b]`,\n",
       ":math:`[a, \\infty)`, or :math:`(-\\infty, \\infty)`.\n",
       "\n",
       "There are two common use cases:\n",
       "\n",
       "* Identical bound for each dimension::\n",
       "\n",
       "    >>> Box(low=-1.0, high=2.0, shape=(3, 4), dtype=np.float32)\n",
       "    Box(-1.0, 2.0, (3, 4), float32)\n",
       "\n",
       "* Independent bound for each dimension::\n",
       "\n",
       "    >>> Box(low=np.array([-1.0, -2.0]), high=np.array([2.0, 4.0]), dtype=np.float32)\n",
       "    Box([-1. -2.], [2. 4.], (2,), float32)\n",
       "\u001b[0;31mInit docstring:\u001b[0m\n",
       "Constructor of :class:`Box`.\n",
       "\n",
       "The argument ``low`` specifies the lower bound of each dimension and ``high`` specifies the upper bounds.\n",
       "I.e., the space that is constructed will be the product of the intervals :math:`[\\text{low}[i], \\text{high}[i]]`.\n",
       "\n",
       "If ``low`` (or ``high``) is a scalar, the lower bound (or upper bound, respectively) will be assumed to be\n",
       "this value across all dimensions.\n",
       "\n",
       "Args:\n",
       "    low (SupportsFloat | np.ndarray): Lower bounds of the intervals. If integer, must be at least ``-2**63``.\n",
       "    high (SupportsFloat | np.ndarray]): Upper bounds of the intervals. If integer, must be at most ``2**63 - 2``.\n",
       "    shape (Optional[Sequence[int]]): The shape is inferred from the shape of `low` or `high` `np.ndarray`s with\n",
       "        `low` and `high` scalars defaulting to a shape of (1,)\n",
       "    dtype: The dtype of the elements of the space. If this is an integer type, the :class:`Box` is essentially a discrete space.\n",
       "    seed: Optionally, you can use this argument to seed the RNG that is used to sample from the space.\n",
       "\n",
       "Raises:\n",
       "    ValueError: If no shape information is provided (shape is None, low is None and high is None) then a\n",
       "        value error is raised.\n",
       "\u001b[0;31mFile:\u001b[0m           ~/projects/RL-Introduction/venv/lib/python3.10/site-packages/gymnasium/spaces/box.py\n",
       "\u001b[0;31mType:\u001b[0m           type\n",
       "\u001b[0;31mSubclasses:\u001b[0m     "
      ]
     },
     "metadata": {},
     "output_type": "display_data"
    }
   ],
   "source": [
    "gym.spaces.Box?"
   ]
  },
  {
   "cell_type": "code",
   "execution_count": 6,
   "id": "5fd2e1cc-fcd8-4602-9527-f597a43772d3",
   "metadata": {},
   "outputs": [
    {
     "data": {
      "text/plain": [
       "[np.float32(-2.5),\n",
       " np.float32(-2.5),\n",
       " np.float32(-10.0),\n",
       " np.float32(-10.0),\n",
       " np.float32(-6.2831855),\n",
       " np.float32(-10.0),\n",
       " np.float32(-0.0),\n",
       " np.float32(-0.0)]"
      ]
     },
     "execution_count": 6,
     "metadata": {},
     "output_type": "execute_result"
    }
   ],
   "source": [
    "list(env.observation_space.low)"
   ]
  },
  {
   "cell_type": "code",
   "execution_count": 7,
   "id": "7636a324-2183-432e-a005-11a2e0a44698",
   "metadata": {},
   "outputs": [
    {
     "data": {
      "text/plain": [
       "[np.float32(2.5),\n",
       " np.float32(2.5),\n",
       " np.float32(10.0),\n",
       " np.float32(10.0),\n",
       " np.float32(6.2831855),\n",
       " np.float32(10.0),\n",
       " np.float32(1.0),\n",
       " np.float32(1.0)]"
      ]
     },
     "execution_count": 7,
     "metadata": {},
     "output_type": "execute_result"
    }
   ],
   "source": [
    "list(env.observation_space.high)"
   ]
  },
  {
   "cell_type": "code",
   "execution_count": 8,
   "id": "b7c7f78d-563d-42ad-9008-1a07904bdc76",
   "metadata": {},
   "outputs": [
    {
     "data": {
      "text/plain": [
       "array([-1.9686588 ,  0.58947736,  6.9609694 ,  9.632183  ,  1.3206633 ,\n",
       "        0.08854495,  0.689009  ,  0.01023463], dtype=float32)"
      ]
     },
     "execution_count": 8,
     "metadata": {},
     "output_type": "execute_result"
    }
   ],
   "source": [
    "env.observation_space.sample()"
   ]
  },
  {
   "cell_type": "code",
   "execution_count": 9,
   "id": "06fe7472-c912-4402-af7d-f06cdca7c9c2",
   "metadata": {},
   "outputs": [
    {
     "data": {
      "text/plain": [
       "\u001b[0;31mType:\u001b[0m           TimeLimit\n",
       "\u001b[0;31mString form:\u001b[0m    <TimeLimit<OrderEnforcing<PassiveEnvChecker<LunarLander<LunarLander-v3>>>>>\n",
       "\u001b[0;31mFile:\u001b[0m           ~/projects/RL-Introduction/venv/lib/python3.10/site-packages/gymnasium/wrappers/common.py\n",
       "\u001b[0;31mDocstring:\u001b[0m     \n",
       "Limits the number of steps for an environment through truncating the environment if a maximum number of timesteps is exceeded.\n",
       "\n",
       "If a truncation is not defined inside the environment itself, this is the only place that the truncation signal is issued.\n",
       "Critically, this is different from the `terminated` signal that originates from the underlying environment as part of the MDP.\n",
       "No vector wrapper exists.\n",
       "\n",
       "Example using the TimeLimit wrapper:\n",
       "    >>> from gymnasium.wrappers import TimeLimit\n",
       "    >>> from gymnasium.envs.classic_control import CartPoleEnv\n",
       "\n",
       "    >>> spec = gym.spec(\"CartPole-v1\")\n",
       "    >>> spec.max_episode_steps\n",
       "    500\n",
       "    >>> env = gym.make(\"CartPole-v1\")\n",
       "    >>> env  # TimeLimit is included within the environment stack\n",
       "    <TimeLimit<OrderEnforcing<PassiveEnvChecker<CartPoleEnv<CartPole-v1>>>>>\n",
       "    >>> env.spec  # doctest: +ELLIPSIS\n",
       "    EnvSpec(id='CartPole-v1', ..., max_episode_steps=500, ...)\n",
       "    >>> env = gym.make(\"CartPole-v1\", max_episode_steps=3)\n",
       "    >>> env.spec  # doctest: +ELLIPSIS\n",
       "    EnvSpec(id='CartPole-v1', ..., max_episode_steps=3, ...)\n",
       "    >>> env = TimeLimit(CartPoleEnv(), max_episode_steps=10)\n",
       "    >>> env\n",
       "    <TimeLimit<CartPoleEnv instance>>\n",
       "\n",
       "Example of `TimeLimit` determining the episode step\n",
       "    >>> env = gym.make(\"CartPole-v1\", max_episode_steps=3)\n",
       "    >>> _ = env.reset(seed=123)\n",
       "    >>> _ = env.action_space.seed(123)\n",
       "    >>> _, _, terminated, truncated, _ = env.step(env.action_space.sample())\n",
       "    >>> terminated, truncated\n",
       "    (False, False)\n",
       "    >>> _, _, terminated, truncated, _ = env.step(env.action_space.sample())\n",
       "    >>> terminated, truncated\n",
       "    (False, False)\n",
       "    >>> _, _, terminated, truncated, _ = env.step(env.action_space.sample())\n",
       "    >>> terminated, truncated\n",
       "    (False, True)\n",
       "\n",
       "Change logs:\n",
       " * v0.10.6 - Initially added\n",
       " * v0.25.0 - With the step API update, the termination and truncation signal is returned separately.\n",
       "\u001b[0;31mInit docstring:\u001b[0m\n",
       "Initializes the :class:`TimeLimit` wrapper with an environment and the number of steps after which truncation will occur.\n",
       "\n",
       "Args:\n",
       "    env: The environment to apply the wrapper\n",
       "    max_episode_steps: the environment step after which the episode is truncated (``elapsed >= max_episode_steps``)"
      ]
     },
     "metadata": {},
     "output_type": "display_data"
    }
   ],
   "source": [
    "?env"
   ]
  },
  {
   "cell_type": "code",
   "execution_count": 10,
   "id": "527587b5-3da0-4bd9-acab-24f1bae30565",
   "metadata": {},
   "outputs": [
    {
     "data": {
      "text/plain": [
       "Box([ -2.5        -2.5       -10.        -10.         -6.2831855 -10.\n",
       "  -0.         -0.       ], [ 2.5        2.5       10.        10.         6.2831855 10.\n",
       "  1.         1.       ], (8,), float32)"
      ]
     },
     "execution_count": 10,
     "metadata": {},
     "output_type": "execute_result"
    }
   ],
   "source": [
    "env.unwrapped.observation_space"
   ]
  },
  {
   "cell_type": "code",
   "execution_count": 11,
   "id": "0cf65b83-b164-442b-bf41-f2cb32267915",
   "metadata": {},
   "outputs": [
    {
     "data": {
      "text/plain": [
       "1000"
      ]
     },
     "execution_count": 11,
     "metadata": {},
     "output_type": "execute_result"
    }
   ],
   "source": [
    "env.spec.max_episode_steps"
   ]
  },
  {
   "cell_type": "code",
   "execution_count": 12,
   "id": "a2beaa55-b99a-48ba-80de-471af9d04ca4",
   "metadata": {},
   "outputs": [],
   "source": [
    "orig_env = env.unwrapped"
   ]
  },
  {
   "cell_type": "code",
   "execution_count": 13,
   "id": "6e284cb8-81ca-47a6-9ea2-aa8b6f0b432a",
   "metadata": {},
   "outputs": [
    {
     "data": {
      "text/plain": [
       "\u001b[0;31mType:\u001b[0m        LunarLander\n",
       "\u001b[0;31mString form:\u001b[0m <LunarLander<LunarLander-v3>>\n",
       "\u001b[0;31mFile:\u001b[0m        ~/projects/RL-Introduction/venv/lib/python3.10/site-packages/gymnasium/envs/box2d/lunar_lander.py\n",
       "\u001b[0;31mDocstring:\u001b[0m  \n",
       "## Description\n",
       "This environment is a classic rocket trajectory optimization problem.\n",
       "According to Pontryagin's maximum principle, it is optimal to fire the\n",
       "engine at full throttle or turn it off. This is the reason why this\n",
       "environment has discrete actions: engine on or off.\n",
       "\n",
       "There are two environment versions: discrete or continuous.\n",
       "The landing pad is always at coordinates (0,0). The coordinates are the\n",
       "first two numbers in the state vector.\n",
       "Landing outside of the landing pad is possible. Fuel is infinite, so an agent\n",
       "can learn to fly and then land on its first attempt.\n",
       "\n",
       "To see a heuristic landing, run:\n",
       "```shell\n",
       "python gymnasium/envs/box2d/lunar_lander.py\n",
       "```\n",
       "\n",
       "## Action Space\n",
       "There are four discrete actions available:\n",
       "- 0: do nothing\n",
       "- 1: fire left orientation engine\n",
       "- 2: fire main engine\n",
       "- 3: fire right orientation engine\n",
       "\n",
       "## Observation Space\n",
       "The state is an 8-dimensional vector: the coordinates of the lander in `x` & `y`, its linear\n",
       "velocities in `x` & `y`, its angle, its angular velocity, and two booleans\n",
       "that represent whether each leg is in contact with the ground or not.\n",
       "\n",
       "## Rewards\n",
       "After every step a reward is granted. The total reward of an episode is the\n",
       "sum of the rewards for all the steps within that episode.\n",
       "\n",
       "For each step, the reward:\n",
       "- is increased/decreased the closer/further the lander is to the landing pad.\n",
       "- is increased/decreased the slower/faster the lander is moving.\n",
       "- is decreased the more the lander is tilted (angle not horizontal).\n",
       "- is increased by 10 points for each leg that is in contact with the ground.\n",
       "- is decreased by 0.03 points each frame a side engine is firing.\n",
       "- is decreased by 0.3 points each frame the main engine is firing.\n",
       "\n",
       "The episode receive an additional reward of -100 or +100 points for crashing or landing safely respectively.\n",
       "\n",
       "An episode is considered a solution if it scores at least 200 points.\n",
       "\n",
       "## Starting State\n",
       "The lander starts at the top center of the viewport with a random initial\n",
       "force applied to its center of mass.\n",
       "\n",
       "## Episode Termination\n",
       "The episode finishes if:\n",
       "1) the lander crashes (the lander body gets in contact with the moon);\n",
       "2) the lander gets outside of the viewport (`x` coordinate is greater than 1);\n",
       "3) the lander is not awake. From the [Box2D docs](https://box2d.org/documentation/md__d_1__git_hub_box2d_docs_dynamics.html#autotoc_md61),\n",
       "    a body which is not awake is a body which doesn't move and doesn't\n",
       "    collide with any other body:\n",
       "> When Box2D determines that a body (or group of bodies) has come to rest,\n",
       "> the body enters a sleep state which has very little CPU overhead. If a\n",
       "> body is awake and collides with a sleeping body, then the sleeping body\n",
       "> wakes up. Bodies will also wake up if a joint or contact attached to\n",
       "> them is destroyed.\n",
       "\n",
       "## Arguments\n",
       "\n",
       "Lunar Lander has a large number of arguments\n",
       "\n",
       "```python\n",
       ">>> import gymnasium as gym\n",
       ">>> env = gym.make(\"LunarLander-v3\", continuous=False, gravity=-10.0,\n",
       "...                enable_wind=False, wind_power=15.0, turbulence_power=1.5)\n",
       ">>> env\n",
       "<TimeLimit<OrderEnforcing<PassiveEnvChecker<LunarLander<LunarLander-v3>>>>>\n",
       "\n",
       "```\n",
       "\n",
       " * `continuous` determines if discrete or continuous actions (corresponding to the throttle of the engines) will be used with the\n",
       " action space being `Discrete(4)` or `Box(-1, +1, (2,), dtype=np.float32)` respectively.\n",
       " For continuous actions, the first coordinate of an action determines the throttle of the main engine, while the second\n",
       " coordinate specifies the throttle of the lateral boosters. Given an action `np.array([main, lateral])`, the main\n",
       " engine will be turned off completely if `main < 0` and the throttle scales affinely from 50% to 100% for\n",
       " `0 <= main <= 1` (in particular, the main engine doesn't work  with less than 50% power).\n",
       " Similarly, if `-0.5 < lateral < 0.5`, the lateral boosters will not fire at all. If `lateral < -0.5`, the left\n",
       " booster will fire, and if `lateral > 0.5`, the right booster will fire. Again, the throttle scales affinely\n",
       " from 50% to 100% between -1 and -0.5 (and 0.5 and 1, respectively).\n",
       "\n",
       "* `gravity` dictates the gravitational constant, this is bounded to be within 0 and -12. Default is -10.0\n",
       "\n",
       "* `enable_wind` determines if there will be wind effects applied to the lander. The wind is generated using\n",
       " the function `tanh(sin(2 k (t+C)) + sin(pi k (t+C)))` where `k` is set to 0.01 and `C` is sampled randomly between -9999 and 9999.\n",
       "\n",
       "* `wind_power` dictates the maximum magnitude of linear wind applied to the craft. The recommended value for\n",
       " `wind_power` is between 0.0 and 20.0.\n",
       "\n",
       "* `turbulence_power` dictates the maximum magnitude of rotational wind applied to the craft.\n",
       " The recommended value for `turbulence_power` is between 0.0 and 2.0.\n",
       "\n",
       "## Version History\n",
       "- v3:\n",
       "    - Reset wind and turbulence offset (`C`) whenever the environment is reset to ensure statistical independence between consecutive episodes (related [GitHub issue](https://github.com/Farama-Foundation/Gymnasium/issues/954)).\n",
       "    - Fix non-deterministic behaviour due to not fully destroying the world (related [GitHub issue](https://github.com/Farama-Foundation/Gymnasium/issues/728)).\n",
       "    - Changed observation space for `x`, `y`  coordinates from $\\pm 1.5$ to $\\pm 2.5$, velocities from $\\pm 5$ to $\\pm 10$ and angles from $\\pm \\pi$ to $\\pm 2\\pi$ (related [GitHub issue](https://github.com/Farama-Foundation/Gymnasium/issues/752)).\n",
       "- v2: Count energy spent and in v0.24, added turbulence with wind power and turbulence_power parameters\n",
       "- v1: Legs contact with ground added in state vector; contact with ground give +10 reward points, and -10 if then lose contact; reward renormalized to 200; harder initial random push.\n",
       "- v0: Initial version\n",
       "\n",
       "## Notes\n",
       "\n",
       "There are several unexpected bugs with the implementation of the environment.\n",
       "\n",
       "1. The position of the side thrusters on the body of the lander changes, depending on the orientation of the lander.\n",
       "This in turn results in an orientation dependent torque being applied to the lander.\n",
       "\n",
       "2. The units of the state are not consistent. I.e.\n",
       "* The angular velocity is in units of 0.4 radians per second. In order to convert to radians per second, the value needs to be multiplied by a factor of 2.5.\n",
       "\n",
       "For the default values of VIEWPORT_W, VIEWPORT_H, SCALE, and FPS, the scale factors equal:\n",
       "'x': 10, 'y': 6.666, 'vx': 5, 'vy': 7.5, 'angle': 1, 'angular velocity': 2.5\n",
       "\n",
       "After the correction has been made, the units of the state are as follows:\n",
       "'x': (units), 'y': (units), 'vx': (units/second), 'vy': (units/second), 'angle': (radians), 'angular velocity': (radians/second)\n",
       "\n",
       "<!-- ## References -->\n",
       "\n",
       "## Credits\n",
       "Created by Oleg Klimov"
      ]
     },
     "metadata": {},
     "output_type": "display_data"
    }
   ],
   "source": [
    "orig_env?"
   ]
  },
  {
   "cell_type": "code",
   "execution_count": 14,
   "id": "18e5baf4-5e79-4144-b6ef-e81e1071a323",
   "metadata": {},
   "outputs": [
    {
     "data": {
      "text/plain": [
       "gymnasium.wrappers.common.TimeLimit"
      ]
     },
     "execution_count": 14,
     "metadata": {},
     "output_type": "execute_result"
    }
   ],
   "source": [
    "type(gym.make(\"LunarLander-v3\", render_mode=\"human\"))"
   ]
  },
  {
   "cell_type": "code",
   "execution_count": 15,
   "id": "ff929daf-5f01-4fd9-ba6d-e5e41223894a",
   "metadata": {},
   "outputs": [
    {
     "data": {
      "text/plain": [
       "gymnasium.wrappers.common.OrderEnforcing"
      ]
     },
     "execution_count": 15,
     "metadata": {},
     "output_type": "execute_result"
    }
   ],
   "source": [
    "type(gym.make(\"LunarLander-v3\", render_mode=\"human\", max_episode_steps=-1))"
   ]
  },
  {
   "cell_type": "code",
   "execution_count": 16,
   "id": "f9324d2f-98cf-4408-9a40-9d650771efdc",
   "metadata": {},
   "outputs": [
    {
     "data": {
      "text/plain": [
       "\u001b[0;31mInit signature:\u001b[0m\n",
       "\u001b[0mgym\u001b[0m\u001b[0;34m.\u001b[0m\u001b[0mwrappers\u001b[0m\u001b[0;34m.\u001b[0m\u001b[0mcommon\u001b[0m\u001b[0;34m.\u001b[0m\u001b[0mOrderEnforcing\u001b[0m\u001b[0;34m(\u001b[0m\u001b[0;34m\u001b[0m\n",
       "\u001b[0;34m\u001b[0m    \u001b[0menv\u001b[0m\u001b[0;34m:\u001b[0m \u001b[0;34m'gym.Env[ObsType, ActType]'\u001b[0m\u001b[0;34m,\u001b[0m\u001b[0;34m\u001b[0m\n",
       "\u001b[0;34m\u001b[0m    \u001b[0mdisable_render_order_enforcing\u001b[0m\u001b[0;34m:\u001b[0m \u001b[0;34m'bool'\u001b[0m \u001b[0;34m=\u001b[0m \u001b[0;32mFalse\u001b[0m\u001b[0;34m,\u001b[0m\u001b[0;34m\u001b[0m\n",
       "\u001b[0;34m\u001b[0m\u001b[0;34m)\u001b[0m\u001b[0;34m\u001b[0m\u001b[0;34m\u001b[0m\u001b[0m\n",
       "\u001b[0;31mDocstring:\u001b[0m     \n",
       "Will produce an error if ``step`` or ``render`` is called before ``reset``.\n",
       "\n",
       "No vector version of the wrapper exists.\n",
       "\n",
       "Example:\n",
       "    >>> import gymnasium as gym\n",
       "    >>> from gymnasium.wrappers import OrderEnforcing\n",
       "    >>> env = gym.make(\"CartPole-v1\", render_mode=\"human\")\n",
       "    >>> env = OrderEnforcing(env)\n",
       "    >>> env.step(0)\n",
       "    Traceback (most recent call last):\n",
       "        ...\n",
       "    gymnasium.error.ResetNeeded: Cannot call env.step() before calling env.reset()\n",
       "    >>> env.render()\n",
       "    Traceback (most recent call last):\n",
       "        ...\n",
       "    gymnasium.error.ResetNeeded: Cannot call `env.render()` before calling `env.reset()`, if this is an intended action, set `disable_render_order_enforcing=True` on the OrderEnforcer wrapper.\n",
       "    >>> _ = env.reset()\n",
       "    >>> env.render()\n",
       "    >>> _ = env.step(0)\n",
       "    >>> env.close()\n",
       "\n",
       "Change logs:\n",
       " * v0.22.0 - Initially added\n",
       " * v0.24.0 - Added order enforcing for the render function\n",
       "\u001b[0;31mInit docstring:\u001b[0m\n",
       "A wrapper that will produce an error if :meth:`step` is called before an initial :meth:`reset`.\n",
       "\n",
       "Args:\n",
       "    env: The environment to wrap\n",
       "    disable_render_order_enforcing: If to disable render order enforcing\n",
       "\u001b[0;31mFile:\u001b[0m           ~/projects/RL-Introduction/venv/lib/python3.10/site-packages/gymnasium/wrappers/common.py\n",
       "\u001b[0;31mType:\u001b[0m           type\n",
       "\u001b[0;31mSubclasses:\u001b[0m     "
      ]
     },
     "metadata": {},
     "output_type": "display_data"
    }
   ],
   "source": [
    "gym.wrappers.common.OrderEnforcing?"
   ]
  },
  {
   "cell_type": "code",
   "execution_count": 17,
   "id": "c5eeb411-2309-41f8-b5b4-1232f3152167",
   "metadata": {},
   "outputs": [
    {
     "data": {
      "text/plain": [
       "<gymnasium.envs.box2d.lunar_lander.LunarLander at 0x7f9495cc8a00>"
      ]
     },
     "execution_count": 17,
     "metadata": {},
     "output_type": "execute_result"
    }
   ],
   "source": [
    "gym.make(\"LunarLander-v3\", render_mode=\"human\", max_episode_steps=-1).unwrapped"
   ]
  },
  {
   "cell_type": "code",
   "execution_count": 18,
   "id": "b3e11af5-870b-4461-857a-43957fe2c012",
   "metadata": {},
   "outputs": [],
   "source": [
    "from typing import TypeVar\n",
    "from enum import Enum"
   ]
  },
  {
   "cell_type": "code",
   "execution_count": 19,
   "id": "5c10c513-ca50-4be5-b99d-79da24a17d57",
   "metadata": {},
   "outputs": [],
   "source": [
    "Observation = TypeVar(\"Observation\")\n",
    "# Action = TypeVar(\"Action\")"
   ]
  },
  {
   "cell_type": "code",
   "execution_count": 20,
   "id": "1ff09329-e817-45ed-bd71-a573b05a6211",
   "metadata": {},
   "outputs": [],
   "source": [
    "# - 0: do nothing\n",
    "# - 1: fire left orientation engine\n",
    "# - 2: fire main engine\n",
    "# - 3: fire right orientation engine\n",
    "\n",
    "class Action(Enum):\n",
    "    Nothing = 0\n",
    "    Left = 1\n",
    "    Main = 2\n",
    "    Right = 3"
   ]
  },
  {
   "cell_type": "code",
   "execution_count": 21,
   "id": "47afb48c-88aa-4bbf-95cd-a9a643eddd81",
   "metadata": {},
   "outputs": [],
   "source": [
    "def steer(obs: Observation) -> Action:\n",
    "    x, y, vel_x, vel_y, angle, angular_velocity, leg1_contact, leg2_contact = obs\n",
    "    if angle > 0 and angular_velocity < 1:\n",
    "        return Action.Right.value\n",
    "    elif angle < 0 and angular_velocity > -1:\n",
    "        return Action.Left.value\n",
    "    else:\n",
    "        return Action.Nothing.value"
   ]
  },
  {
   "cell_type": "code",
   "execution_count": 22,
   "id": "e68172e7-a7da-4c81-917b-e5d6d092a0a1",
   "metadata": {},
   "outputs": [],
   "source": [
    "# Initialise the environment\n",
    "env = gym.make(\"LunarLander-v3\", render_mode=\"human\")\n",
    "\n",
    "# Reset the environment to generate the first observation\n",
    "observation, info = env.reset(seed=42)\n",
    "for _ in range(1000):\n",
    "    # this is where you would insert your policy\n",
    "    # action = env.action_space.sample()\n",
    "\n",
    "    action = steer(observation)\n",
    "    \n",
    "    # step (transition) through the environment with the action\n",
    "    # receiving the next observation, reward and if the episode has terminated or truncated\n",
    "    observation, reward, terminated, truncated, info = env.step(action)\n",
    "\n",
    "    # If the episode has ended then we can reset to start a new episode\n",
    "    if terminated or truncated:\n",
    "        observation, info = env.reset()"
   ]
  },
  {
   "cell_type": "code",
   "execution_count": 23,
   "id": "aebf5092-ccaf-49fa-adca-16178eb28f94",
   "metadata": {},
   "outputs": [],
   "source": [
    "env.close()"
   ]
  },
  {
   "cell_type": "code",
   "execution_count": null,
   "id": "4defa3b0-c9ce-4ff9-8a6b-2370ca346158",
   "metadata": {},
   "outputs": [],
   "source": []
  }
 ],
 "metadata": {
  "kernelspec": {
   "display_name": "Python 3 (ipykernel)",
   "language": "python",
   "name": "python3"
  },
  "language_info": {
   "codemirror_mode": {
    "name": "ipython",
    "version": 3
   },
   "file_extension": ".py",
   "mimetype": "text/x-python",
   "name": "python",
   "nbconvert_exporter": "python",
   "pygments_lexer": "ipython3",
   "version": "3.10.15"
  }
 },
 "nbformat": 4,
 "nbformat_minor": 5
}
